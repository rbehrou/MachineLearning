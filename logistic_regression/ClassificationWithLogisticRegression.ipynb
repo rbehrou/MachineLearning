{
 "cells": [
  {
   "cell_type": "code",
   "execution_count": 76,
   "id": "4e2ee1bf",
   "metadata": {},
   "outputs": [],
   "source": [
    "import copy, math\n",
    "import numpy as np\n",
    "import matplotlib.pyplot as plt\n",
    "from sklearn.linear_model import LogisticRegression"
   ]
  },
  {
   "cell_type": "markdown",
   "id": "70cde725",
   "metadata": {},
   "source": [
    "# Sigmoid (Logistic) Function\n",
    "\n",
    "For classification tasks, one can start using a linear regression model (i.e. $f_{\\mathbf{w},b}(\\mathbf{x}^{(i)}) = \\mathbf{w} \\cdot  \\mathbf{x}^{(i)} + b$), to predict $y$ for a given $x$. However, the linear regression model will fail to predict the output variable $y$ to be either $0$ or $1$, used for the classification purposes. This can be accomplished by using a \"sigmoid function\" which maps all input values to values between $0$ and $1$. \n",
    "\n",
    "The formula for a sigmoid function is given as follows: \n",
    "\n",
    "$$g(z) = \\frac{1}{1+e^{-z}} \\nonumber$$\n",
    "\n",
    "In the case of logistic regression, $z$ (the input to the sigmoid function), is the output of the linear regression model.\n",
    "\n",
    "- In the case of a single dataset, $z$ is scalar.\n",
    "- in the case of multiple datasets, $z$ may be a vector consisting of $m$ values, one for each dataset. \n",
    "\n",
    "The `sigmoid` function is implemented as shown below."
   ]
  },
  {
   "cell_type": "code",
   "execution_count": 77,
   "id": "3e780f20",
   "metadata": {},
   "outputs": [],
   "source": [
    "def sigmoid(z):\n",
    "    \"\"\"\n",
    "    Compute the sigmoid of z\n",
    "\n",
    "    Args:\n",
    "        z (ndarray): A scalar, numpy array of any size.\n",
    "\n",
    "    Returns:\n",
    "        g (ndarray): sigmoid(z), with the same shape as z\n",
    "         \n",
    "    \"\"\"\n",
    "    g = 1.0/(1.0+np.exp(-z))\n",
    "   \n",
    "    return g"
   ]
  },
  {
   "cell_type": "markdown",
   "id": "c7193980",
   "metadata": {},
   "source": [
    "# Logistic Regression\n",
    "\n",
    "A logistic regression model applies the sigmoid function to the linear regression model as follows:\n",
    "\n",
    "$$f_{\\mathbf{w},b}(\\mathbf{x}^{(i)}) = g(\\mathbf{w} \\cdot \\mathbf{x}^{(i)} + b ) \\nonumber $$ \n",
    "\n",
    " where $g(\\mathbf{z})$ is defined as:\n",
    "\n",
    " $$g(\\mathbf{z}) = \\frac{1}{1+e^{-\\mathbf{z}}} \\nonumber$$\n",
    " \n",
    " with\n",
    " \n",
    " $$\\mathbf{z} = \\mathbf{w} \\cdot \\mathbf{x} + b $$"
   ]
  },
  {
   "cell_type": "markdown",
   "id": "f6e4c87d",
   "metadata": {},
   "source": [
    "# Decision Boundary in Logestic Regession\n",
    "  \n",
    "One can interpret the output of the model ($f_{\\mathbf{w},b}(\\mathbf{x})$) as the probability that $y=1$ given $\\mathbf{x}$ and parameterized by $\\mathbf{w}$ and $b$.\n",
    "\n",
    "Therefore, to get a final prediction ($y = 0$ or $y = 1$) from the logistic regression model, one can use the following heuristic:\n",
    "\n",
    "- if $f_{\\mathbf{w},b}(x) >= 0.5$, predict $y=1$\n",
    "  \n",
    "- if $f_{\\mathbf{w},b}(x) < 0.5$, predict $y=0$\n",
    "  \n",
    "  \n",
    "If we plot the sigmoid function we can see that for $z >=0$, $g(z) >= 0.5$ and for $z < 0$, $g(z) < 0.5$. \n",
    "\n",
    "* Therefore, for a logistic regression model where $\\mathbf{z} = \\mathbf{w} \\cdot \\mathbf{x} + b$:\n",
    "\n",
    "  if $\\mathbf{w} \\cdot \\mathbf{x} + b >= 0$, the model predicts $y=1$\n",
    "  \n",
    "  if $\\mathbf{w} \\cdot \\mathbf{x} + b < 0$, the model predicts $y=0$\n",
    "  "
   ]
  },
  {
   "cell_type": "code",
   "execution_count": 78,
   "id": "045a859f",
   "metadata": {},
   "outputs": [
    {
     "data": {
      "text/plain": [
       "Text(0.5, 0, 'z')"
      ]
     },
     "execution_count": 78,
     "metadata": {},
     "output_type": "execute_result"
    },
    {
     "data": {
      "image/png": "[encoded data removed]",
      "text/plain": [
       "<Figure size 360x216 with 1 Axes>"
      ]
     },
     "metadata": {
      "needs_background": "light"
     },
     "output_type": "display_data"
    }
   ],
   "source": [
    "# Plot sigmoid(z) over a range of values from -10 to 10\n",
    "z = np.arange(-10,11)\n",
    "\n",
    "fig,ax = plt.subplots(1,1,figsize=(5,3))\n",
    "# Plot z vs sigmoid(z)\n",
    "ax.plot(z, sigmoid(z), c=\"b\")\n",
    "ax.plot([0.0, 0.0], [0.0, 1.0], c=\"r\")\n",
    "\n",
    "ax.set_title(\"Sigmoid function\")\n",
    "ax.set_ylabel('sigmoid(z)')\n",
    "ax.set_xlabel('z')"
   ]
  },
  {
   "cell_type": "markdown",
   "id": "ca31e9fb",
   "metadata": {},
   "source": [
    "# Logistic Loss Function\n",
    "\n",
    "Recall that for **Linear** Regression we have used the **squared error cost function**. The squared error cost function had the nice property that following the derivative of the cost leads to the minimum. While this cost function works well for linear regression, in logestic regression $f_{wb}(x)$ has a non-linear component (i.e. the sigmoid function $f_{\\mathbf{w},b}(\\mathbf{x}^{(i)}) = g(\\mathbf{w} \\cdot \\mathbf{x}^{(i)} + b )$). Therefore, logistic regression requires a cost function more suitable to its non-linear nature. This can be defined as a **loss function** as follows:\n",
    "\n",
    "\\begin{equation}\n",
    "  loss(f_{\\mathbf{w},b}(\\mathbf{x}^{(i)}), y^{(i)}) = \\begin{cases}\n",
    "    - \\log\\left(f_{\\mathbf{w},b}\\left( \\mathbf{x}^{(i)} \\right) \\right) & \\text{if $y^{(i)}=1$}\\\\\n",
    "    - \\log \\left( 1 - f_{\\mathbf{w},b}\\left( \\mathbf{x}^{(i)} \\right) \\right) & \\text{if $y^{(i)}=0$} \\nonumber\n",
    "  \\end{cases}\n",
    "\\end{equation}\n",
    "\n",
    "where $loss(f_{\\mathbf{w},b}(\\mathbf{x}^{(i)}), y^{(i)})$ is the cost for a single data point with:\n",
    "\n",
    "\n",
    "*  $f_{\\mathbf{w},b}(\\mathbf{x}^{(i)})$ denotes the model's prediction, while $y^{(i)}$ is the target value.\n",
    "\n",
    "*  $f_{\\mathbf{w},b}(\\mathbf{x}^{(i)}) = g(\\mathbf{w} \\cdot\\mathbf{x}^{(i)}+b)$, where $g$ is the sigmoid function.\n",
    "\n",
    "The defining feature of this loss function is the fact that it uses two separate curves. One for the case when the target is zero or ($y=0$) and another for when the target is one ($y=1$). Combining these curves provides a behavior that is useful for a loss function, namely, being zero when the prediction matches the target and rapidly increasing in value as the prediction differs from the target. Consider these two curves, the cost function for the logistic regression forms as follows:\n",
    "\n",
    "$$ J(\\mathbf{w},b) = \\frac{1}{m} \\sum_{i=0}^{m-1} \\left[ loss(f_{\\mathbf{w},b}(\\mathbf{x}^{(i)}), y^{(i)}) \\right] \\nonumber $$\n",
    "\n",
    "where\n",
    "* $loss(f_{\\mathbf{w},b}(\\mathbf{x}^{(i)}), y^{(i)})$ is the cost for a single data point given as:\n",
    "\n",
    "$$loss(f_{\\mathbf{w},b}(\\mathbf{x}^{(i)}), y^{(i)}) = -y^{(i)} \\log\\left(f_{\\mathbf{w},b}\\left( \\mathbf{x}^{(i)} \\right) \\right) - \\left( 1 - y^{(i)}\\right) \\log \\left( 1 - f_{\\mathbf{w},b}\\left( \\mathbf{x}^{(i)} \\right) \\right) \\nonumber$$\n",
    "    \n",
    "Note that $m$ is the number of training examples in the data set and:\n",
    "\n",
    "\\begin{align}\n",
    "  f_{\\mathbf{w},b}(\\mathbf{x^{(i)}}) &= g(z^{(i)}) \\nonumber \\\\\n",
    "  z^{(i)} &= \\mathbf{w} \\cdot \\mathbf{x}^{(i)}+ b \\nonumber \\\\\n",
    "  g(z^{(i)}) &= \\frac{1}{1+e^{-z^{(i)}}} \\nonumber \n",
    "\\end{align}\n",
    "\n",
    "\n",
    "The algorithm for `compute_logistic_loss` loops over all the examples calculating the loss for each example and accumulating the total.\n",
    "\n",
    "Note that the variables X and y are not scalar values but matrices of shape ($m, n$) and ($𝑚$,) respectively, where  $𝑛$ is the number of features and $𝑚$ is the number of training examples.\n"
   ]
  },
  {
   "cell_type": "code",
   "execution_count": 79,
   "id": "79bc1008",
   "metadata": {},
   "outputs": [],
   "source": [
    "def compute_logistic_loss(X, y, w, b):\n",
    "    \"\"\"\n",
    "    Computes logestic loss\n",
    "\n",
    "    Args:\n",
    "      X (ndarray (m,n)): Data, m examples with n features\n",
    "      y (ndarray (m,)) : target values\n",
    "      w (ndarray (n,)) : model parameters  \n",
    "      b (scalar)       : model parameter\n",
    "      \n",
    "    Returns:\n",
    "      loss (scalar): loss\n",
    "    \"\"\"\n",
    "\n",
    "    m = X.shape[0]\n",
    "    loss = 0.0\n",
    "    for i in range(m):\n",
    "        z_i = np.dot(X[i],w) + b\n",
    "        f_wb_i = sigmoid(z_i)\n",
    "        loss +=  -y[i]*np.log(f_wb_i) - (1-y[i])*np.log(1-f_wb_i)\n",
    "             \n",
    "    loss = loss / m\n",
    "    return loss\n"
   ]
  },
  {
   "cell_type": "markdown",
   "id": "05a54083",
   "metadata": {},
   "source": [
    "# Gradient Descent for Logistic Regression\n",
    "\n",
    "Recall the gradient descent algorithm utilizes the gradient calculation as follows:\n",
    "\n",
    "\\begin{align*}\n",
    "w_j &= w_j -  \\alpha \\frac{\\partial J(\\mathbf{w},b)}{\\partial w_j} \\tag{1}  \\qquad \\forall j = 0, \\dots, n-1 \\nonumber \\\\ \n",
    "b &= b -  \\alpha \\frac{\\partial J(\\mathbf{w},b)}{\\partial b} \\nonumber \\\\\n",
    "\\end{align*}\n",
    "\n",
    "Where at each iteration we perform simultaneous updates on $w_j$ for all $j$, where\n",
    "\n",
    "\\begin{align*}\n",
    "\\frac{\\partial J(\\mathbf{w},b)}{\\partial w_j}  &= \\frac{1}{m} \\sum\\limits_{i = 0}^{m-1} (f_{\\mathbf{w},b}(\\mathbf{x}^{(i)}) - y^{(i)})x_{j}^{(i)} \\nonumber \\\\\n",
    "\\frac{\\partial J(\\mathbf{w},b)}{\\partial b}  &= \\frac{1}{m} \\sum\\limits_{i = 0}^{m-1} (f_{\\mathbf{w},b}(\\mathbf{x}^{(i)}) - y^{(i)}) \\nonumber \n",
    "\\end{align*}\n",
    "\n",
    "where\n",
    "\n",
    "* m is the number of training examples in the data set      \n",
    "* $f_{\\mathbf{w},b}(x^{(i)})$ is the model's prediction, while $y^{(i)}$ is the target\n",
    "* For a logistic regression model  \n",
    "    $z = \\mathbf{w} \\cdot \\mathbf{x} + b$  \n",
    "    $f_{\\mathbf{w},b}(x) = g(z)$  \n",
    "    and $g(z)$ is the sigmoid function:  \n",
    "    $g(z) = \\frac{1}{1+e^{-z}}$   \n",
    "    \n",
    "The codes for the gradient descent are given below:"
   ]
  },
  {
   "cell_type": "code",
   "execution_count": 80,
   "id": "8edc5d0e",
   "metadata": {},
   "outputs": [],
   "source": [
    "def compute_gradient_logistic(X, y, w, b): \n",
    "    \"\"\"\n",
    "    Computes the gradient for linear regression \n",
    " \n",
    "    Args:\n",
    "      X (ndarray (m,n): Data, m examples with n features\n",
    "      y (ndarray (m,)): target values\n",
    "      w (ndarray (n,)): model parameters  \n",
    "      b (scalar)      : model parameter\n",
    "    Returns\n",
    "      dj_dw (ndarray (n,)): The gradient of the cost w.r.t. the parameters w. \n",
    "      dj_db (scalar)      : The gradient of the cost w.r.t. the parameter b. \n",
    "    \"\"\"\n",
    "    m,n = X.shape\n",
    "    dj_dw = np.zeros((n,))                           #(n,)\n",
    "    dj_db = 0.\n",
    "\n",
    "    for i in range(m):\n",
    "        f_wb_i = sigmoid(np.dot(X[i],w) + b)          #(n,)(n,)=scalar\n",
    "        err_i  = f_wb_i  - y[i]                       #scalar\n",
    "        for j in range(n):\n",
    "            dj_dw[j] = dj_dw[j] + err_i * X[i,j]      #scalar\n",
    "        dj_db = dj_db + err_i\n",
    "    dj_dw = dj_dw/m                                   #(n,)\n",
    "    dj_db = dj_db/m                                   #scalar\n",
    "        \n",
    "    return dj_dw, dj_db  "
   ]
  },
  {
   "cell_type": "code",
   "execution_count": 81,
   "id": "e7d499b3",
   "metadata": {},
   "outputs": [],
   "source": [
    "# Gradient decent method\n",
    "def gradient_descent(X, y, w_in, b_in, alpha, num_iters, rel_err):\n",
    "    \"\"\"\n",
    "    Performs gradient descent to fit w,b. Updates w,b by taking\n",
    "    num_iters gradient steps with learning rate alpha\n",
    "    Args:\n",
    "        X (ndarray (m,n): Data, m examples with n features\n",
    "        y (ndarray (m,)): target values\n",
    "        w_in (ndarray (n,)) : initial model parameters\n",
    "        b_in (scalar): initial model parameter\n",
    "        alpha (float): learning rate\n",
    "        num_iters (int): number of iterations to run gradient descent\n",
    "        rel_err(float): relative error in the gradient decent\n",
    "    Returns:\n",
    "        w (scalar): Updated value of parameter after running gradient descent\n",
    "        b (scalar): Updated value of parameter after running gradient descent\n",
    "        J_history (List): History of cost values\n",
    "    \"\"\"\n",
    "    # Initialize\n",
    "    w = copy.deepcopy(w_in) # avoid modifying global w_in\n",
    "    \n",
    "    # An array to store cost J and w's at each iteration primarily for graphing later\n",
    "    J_history = []\n",
    "    b         = b_in\n",
    "    w         = w_in\n",
    "    rel_diff  = 1.0\n",
    "    i         = 0\n",
    "    \n",
    "    # Loop over number of iterations\n",
    "    while (i < num_iters) or (rel_diff > rel_err):\n",
    "\n",
    "        # Calculate the gradient and update the parameters using gradient_function\n",
    "        dj_dw, dj_db = compute_gradient_logistic(X, y, w, b)\n",
    "        \n",
    "        # Update Parameters using equation for the gradient decent\n",
    "        w = w - alpha * dj_dw\n",
    "        b = b - alpha * dj_db\n",
    "        \n",
    "        # Save cost J at each iteration\n",
    "        if i < 100000: # prevent resource exhaustion\n",
    "            J_history.append(compute_logistic_loss(X, y, w, b))\n",
    "        \n",
    "        # Relative difference\n",
    "        if i > 0:\n",
    "            rel_diff = abs(J_history[i]-J_history[i-1])/J_history[i]\n",
    "        \n",
    "        # Print cost every at intervals 10 times or as many iterations if < 10\n",
    "        if i% math.ceil(num_iters/10) == 0:\n",
    "            print(f\"Itr {i:4}: Cost = {J_history[-1]:8.9f}, rel_diff = {rel_diff:0.9e}\")\n",
    "        \n",
    "        # Update\n",
    "        i += 1\n",
    "        \n",
    "    # return w and J,w history for graphing\n",
    "    print(f\"Itr {i:4}: Cost = {J_history[-1]:8.9f}, rel_diff = {rel_diff:0.9e}\")\n",
    "    return w, b, J_history"
   ]
  },
  {
   "cell_type": "markdown",
   "id": "cb9eb0aa",
   "metadata": {},
   "source": [
    "# Run an Example using in-house Logestic Gradient Descent"
   ]
  },
  {
   "cell_type": "code",
   "execution_count": 82,
   "id": "2af87b91",
   "metadata": {},
   "outputs": [
    {
     "name": "stdout",
     "output_type": "stream",
     "text": [
      "Itr    0: Cost = 0.684610469, rel_diff = 1.000000000e+00\n",
      "Itr 1000: Cost = 0.159097767, rel_diff = 8.535521413e-04\n",
      "Itr 2000: Cost = 0.084600642, rel_diff = 4.781698964e-04\n",
      "Itr 3000: Cost = 0.057053273, rel_diff = 3.282283690e-04\n",
      "Itr 4000: Cost = 0.042907594, rel_diff = 2.489516787e-04\n",
      "Itr 5000: Cost = 0.034338477, rel_diff = 2.001970148e-04\n",
      "Itr 6000: Cost = 0.028603798, rel_diff = 1.672708979e-04\n",
      "Itr 7000: Cost = 0.024501570, rel_diff = 1.435756908e-04\n",
      "Itr 8000: Cost = 0.021423703, rel_diff = 1.257221998e-04\n",
      "Itr 9000: Cost = 0.019030137, rel_diff = 1.117949719e-04\n",
      "Itr 10000: Cost = 0.017117769, rel_diff = 1.006414383e-04\n",
      "(J, w, b) found by gradient descent: (0.0171178, [5.28123029 5.07815608], -14.2224100)\n",
      "--------------------------------------------------------------------\n"
     ]
    }
   ],
   "source": [
    "def main():\n",
    "    \n",
    "    # dataset\n",
    "    X_train = np.array([[0.5, 1.5], [1,1], [1.5, 0.5], [3, 0.5], [2, 2], [1, 2.5]])\n",
    "    y_train = np.array([0, 0, 0, 1, 1, 1])\n",
    "\n",
    "    # initialize parameters\n",
    "    w_init = np.zeros_like(X_train[0])\n",
    "    b_init = 0.0\n",
    "\n",
    "    # some gradient descent settings\n",
    "    num_iters = 10000\n",
    "    alpha     = 1.0e-1\n",
    "    rel_err   = 1.0e-2\n",
    "    \n",
    "    # run gradient descent\n",
    "    w_final, b_final, J_hist = gradient_descent(X_train, y_train, w_init, b_init, alpha, num_iters, rel_err)\n",
    "    print(f\"(J, w, b) found by gradient descent: ({J_hist[-1]:0.7f}, {w_final}, {b_final:0.7f})\")\n",
    "    print(\"--------------------------------------------------------------------\")\n",
    "    # reference parameters: w:[5.28 5.08], b:-14.222409982019837\n",
    "\n",
    "if __name__ == '__main__':\n",
    "    main()"
   ]
  },
  {
   "cell_type": "markdown",
   "id": "905f3fe1",
   "metadata": {},
   "source": [
    "# Run the same example using Scikit-Learn Logistic Regression"
   ]
  },
  {
   "cell_type": "code",
   "execution_count": 83,
   "id": "13e0030d",
   "metadata": {},
   "outputs": [
    {
     "name": "stdout",
     "output_type": "stream",
     "text": [
      "Prediction on training set: [0 0 0 1 1 1]\n",
      "Accuracy on training set: 1.0\n"
     ]
    }
   ],
   "source": [
    "# dataset\n",
    "X_train = np.array([[0.5, 1.5], [1,1], [1.5, 0.5], [3, 0.5], [2, 2], [1, 2.5]])\n",
    "y_train = np.array([0, 0, 0, 1, 1, 1])\n",
    "\n",
    "# call logestic regression model\n",
    "lr_model = LogisticRegression(C=1.0, class_weight=None, dual=False, fit_intercept=True,\n",
    "                   intercept_scaling=1, l1_ratio=None, max_iter=100,\n",
    "                   multi_class='auto', n_jobs=None, penalty='l2',\n",
    "                   random_state=None, solver='lbfgs', tol=0.0001, verbose=0,\n",
    "                   warm_start=False)\n",
    "# fit the model\n",
    "lr_model.fit(X_train, y_train)\n",
    "\n",
    "# make prediction\n",
    "y_pred = lr_model.predict(X_train)\n",
    "print(\"Prediction on training set:\", y_pred)\n",
    "# y_train = np.array([0, 0, 0, 1, 1, 1])\n",
    "\n",
    "# calculate accuracy\n",
    "print(\"Accuracy on training set:\", lr_model.score(X_train, y_train))"
   ]
  },
  {
   "cell_type": "code",
   "execution_count": null,
   "id": "ae9182df",
   "metadata": {},
   "outputs": [],
   "source": []
  }
 ],
 "metadata": {
  "kernelspec": {
   "display_name": "Python 3 (ipykernel)",
   "language": "python",
   "name": "python3"
  },
  "language_info": {
   "codemirror_mode": {
    "name": "ipython",
    "version": 3
   },
   "file_extension": ".py",
   "mimetype": "text/x-python",
   "name": "python",
   "nbconvert_exporter": "python",
   "pygments_lexer": "ipython3",
   "version": "3.10.4"
  }
 },
 "nbformat": 4,
 "nbformat_minor": 5
}

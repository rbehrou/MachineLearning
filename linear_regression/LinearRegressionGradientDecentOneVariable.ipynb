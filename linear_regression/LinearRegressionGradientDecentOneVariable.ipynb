{
 "cells": [
  {
   "cell_type": "code",
   "execution_count": 1,
   "id": "ff53215f",
   "metadata": {},
   "outputs": [],
   "source": [
    "# Import\n",
    "import math, copy\n",
    "import numpy as np\n",
    "import matplotlib.pyplot as plt"
   ]
  },
  {
   "cell_type": "markdown",
   "id": "6f5f6dad",
   "metadata": {},
   "source": [
    "## Cost function\n",
    "In linear regression with one variable, the cost function is a measure on how well our model is predicting the target values. \n",
    "\n",
    "The equation for the cost function with one variable is:\n",
    "  $$J(w,b) = \\frac{1}{2m} \\sum\\limits_{i = 0}^{m-1} (f_{w,b}(x^{(i)}) - y^{(i)})^2 \\tag{1} \\nonumber $$ \n",
    " \n",
    "where \n",
    "  $$f_{w,b}(x^{(i)}) = wx^{(i)} + b \\tag{2} \\nonumber $$\n",
    "  \n",
    "- $f_{w,b}(x^{(i)})$ is the prediction for sample $i$ using parameters $w,b$.  \n",
    "- $(f_{w,b}(x^{(i)}) -y^{(i)})^2$ is the squared difference between the target value and the prediction.   \n",
    "- These differences are summed over all the $m$ samples and divided by $2m$ to produce the cost, $J(w,b)$.  \n",
    "- Note that the summation ranges from 0 to m-1 (compatible with python).\n",
    "\n",
    "Here is the code to compute the cost function:"
   ]
  },
  {
   "cell_type": "code",
   "execution_count": 2,
   "id": "8e2c72fb",
   "metadata": {},
   "outputs": [],
   "source": [
    "# Cost function calculator\n",
    "def compute_cost(x, y, w, b):\n",
    "    \"\"\"\n",
    "    Computes the cost function for linear regression \n",
    "    Args:\n",
    "      x (ndarray (m,)): features, m data sets \n",
    "      y (ndarray (m,)): target values\n",
    "      w,b (scalar)    : linear model parameters  \n",
    "    Returns\n",
    "      total_cost (scalar): The total cost\n",
    "     \"\"\"\n",
    "   \n",
    "    # initialize\n",
    "    m = x.shape[0] \n",
    "    cost = 0\n",
    "    \n",
    "    # loop over number of data sets\n",
    "    for i in range(m):\n",
    "        f_wb = w * x[i] + b\n",
    "        cost += (f_wb - y[i])**2\n",
    "    # total cost\n",
    "    total_cost = 1 / (2 * m) * cost\n",
    "\n",
    "    return total_cost"
   ]
  },
  {
   "cell_type": "markdown",
   "id": "f6f875d1",
   "metadata": {},
   "source": [
    "## Gradient of the cost function\n",
    "From the cost function equation, the gradient of the cost function with respect to $w$ and $b$ is given as follows:\n",
    "\n",
    "\\begin{align}\n",
    "\\frac{\\partial J(w,b)}{\\partial w}  &= \\frac{1}{m} \\sum\\limits_{i = 0}^{m-1} (f_{w,b}(x^{(i)}) - y^{(i)})x^{(i)} \\tag{4}\\nonumber \\\\\n",
    "  \\frac{\\partial J(w,b)}{\\partial b}  &= \\frac{1}{m} \\sum\\limits_{i = 0}^{m-1} (f_{w,b}(x^{(i)}) - y^{(i)}) \\tag{5} \\nonumber \\\\\n",
    "\\end{align}\n",
    "\n",
    "- Note that all partial derivatives are computed simultaniously.\n",
    "\n",
    "Here is the code to compute the gradient of the cost function:"
   ]
  },
  {
   "cell_type": "code",
   "execution_count": 3,
   "id": "c5b0fb94",
   "metadata": {},
   "outputs": [],
   "source": [
    "# Cost function gradient calculator\n",
    "def compute_cost_gradient(x, y, w, b): \n",
    "    \"\"\"\n",
    "    Computes the gradient of the cost function based on the linear regression model\n",
    "    Args:\n",
    "      x (ndarray (m,)): features, m data sets \n",
    "      y (ndarray (m,)): target values\n",
    "      w,b (scalar)    : model parameters  \n",
    "    Returns\n",
    "      dj_dw (scalar): The gradient of the cost function w.r.t. the parameters w\n",
    "      dj_db (scalar): The gradient of the cost function w.r.t. the parameter b     \n",
    "     \"\"\"\n",
    "    \n",
    "    # Initialize\n",
    "    m = x.shape[0]    \n",
    "    dj_dw = 0\n",
    "    dj_db = 0\n",
    "    \n",
    "    # loop over number of data sets\n",
    "    for i in range(m):  \n",
    "        f_wb = w * x[i] + b \n",
    "        dj_dw_i = (f_wb - y[i]) * x[i] \n",
    "        dj_db_i = (f_wb - y[i]) \n",
    "        dj_dw += dj_dw_i\n",
    "        dj_db += dj_db_i\n",
    "    dj_dw = dj_dw / m \n",
    "    dj_db = dj_db / m \n",
    "        \n",
    "    return dj_dw, dj_db"
   ]
  },
  {
   "cell_type": "markdown",
   "id": "040c1982",
   "metadata": {},
   "source": [
    "## Gradient descent\n",
    "In linear regression with one variable, the linear model that predicts $f_{w,b}(x^{(i)})$ is given as:\n",
    "\n",
    "$$f_{w,b}(x^{(i)}) = wx^{(i)} + b \\tag{1} \\nonumber $$\n",
    "\n",
    "In linear regression, we utilize input training data to fit the parameters $w$,$b$ by minimizing a measure of the error between our predictions $f_{w,b}(x^{(i)})$ and the actual data $y^{(i)}$. The measure is called the $cost$, $J(w,b)$. In training we measure the cost over all of our training samples $x^{(i)},y^{(i)}$ by:\n",
    "\n",
    "$$J(w,b) = \\frac{1}{2m} \\sum\\limits_{i = 0}^{m-1} (f_{w,b}(x^{(i)}) - y^{(i)})^2\\tag{2} \\nonumber $$ \n",
    "\n",
    "Using the *gradient descent* method, parameters $w$, $b$ are updated simultaneously as follows:\n",
    "\n",
    "\\begin{align}\n",
    "\\;  w &= w -  \\alpha \\frac{\\partial J(w,b)}{\\partial w} \\tag{3}  \\nonumber \\\\ \n",
    " b &= b -  \\alpha \\frac{\\partial J(w,b)}{\\partial b}  \\nonumber\n",
    "\\end{align}\n",
    "\n",
    "where $\\alpha$ is the learing rate.\n",
    "\n",
    "- We repeat the update precedure until the convergence criteria are met. \n",
    "- Note that when the gradient is negative, $w$ or $b$ is decreased and vice-versa.\n",
    "\n",
    "Here is the code for gradient decent method with one variable:"
   ]
  },
  {
   "cell_type": "code",
   "execution_count": 4,
   "id": "06a18425",
   "metadata": {},
   "outputs": [],
   "source": [
    "# Gradient decent method\n",
    "def gradient_descent(x, y, w_in, b_in, alpha, num_iters, rel_err): \n",
    "    \"\"\"\n",
    "    Performs gradient descent to fit w,b. Updates w,b by taking \n",
    "    num_iters gradient steps with learning rate alpha\n",
    "    \n",
    "    Args:\n",
    "      x (ndarray (m,))  : features, m examples \n",
    "      y (ndarray (m,))  : target values\n",
    "      w_in,b_in (scalar): initial values of model parameters  \n",
    "      alpha (float)     : learning rate\n",
    "      num_iters (int)   : number of iterations to run gradient descent\n",
    "      rel_err(float)    : relative error in the gradient decent\n",
    "      \n",
    "    Returns:\n",
    "      w (scalar)      : Updated value of parameter after running gradient descent\n",
    "      b (scalar)      : Updated value of parameter after running gradient descent\n",
    "      J_history (List): History of cost values\n",
    "      p_history (list): History of parameters [w,b] \n",
    "      \"\"\"\n",
    "    \n",
    "    # Initialize\n",
    "    w = copy.deepcopy(w_in) # avoid modifying global w_in\n",
    "    \n",
    "    # An array to store cost J and w's at each iteration primarily for graphing later\n",
    "    J_history = []\n",
    "    p_history = []\n",
    "    b         = b_in\n",
    "    w         = w_in\n",
    "    \n",
    "    # Loop over number of iterations\n",
    "    i = 0\n",
    "    while i < num_iters:\n",
    "        \n",
    "        # Calculate the gradient and update the parameters using gradient_function\n",
    "        dj_dw, dj_db = compute_cost_gradient(x, y, w , b)     \n",
    "\n",
    "        # Update Parameters using equation for the gradient decent\n",
    "        b = b - alpha * dj_db                            \n",
    "        w = w - alpha * dj_dw                            \n",
    "\n",
    "        # Save cost J at each iteration\n",
    "        if i < 100000: # prevent resource exhaustion \n",
    "            J_history.append(compute_cost(x, y, w , b))\n",
    "            p_history.append([w,b])\n",
    "        # Relative difference\n",
    "        rel_diff = 1.0\n",
    "        if i > 0:\n",
    "            rel_diff = abs(J_history[i]-J_history[i-1])/J_history[i]\n",
    "        # Print cost every at intervals 10 times or as many iterations if < 10\n",
    "        if i% math.ceil(num_iters/20) == 0:\n",
    "            print(f\"Itr {i:4}: Cost {J_history[-1]:0.2e} \",\n",
    "                  f\"dj_dw: {dj_dw: 0.3e}, dj_db: {dj_db: 0.3e}  \",\n",
    "                  f\"w: {w: 0.3e}, b:{b: 0.5e}, rel_err: {rel_diff: 0.5e}\")\n",
    "            \n",
    "        # Check the convergence and update\n",
    "        i += 1\n",
    "        if rel_diff < rel_err:\n",
    "            return w, b, J_history, p_history\n",
    " \n",
    "    # return w and J,w history for graphing\n",
    "    return w, b, J_history, p_history"
   ]
  },
  {
   "cell_type": "markdown",
   "id": "481693a8",
   "metadata": {},
   "source": [
    "## Plot cost function"
   ]
  },
  {
   "cell_type": "code",
   "execution_count": 5,
   "id": "bc92a356",
   "metadata": {},
   "outputs": [],
   "source": [
    "def plot(J_hist):\n",
    "    # plot cost versus iteration  \n",
    "    fig, (ax1, ax2) = plt.subplots(1, 2, constrained_layout=True, figsize=(12,4))\n",
    "    ax1.plot(J_hist[:100])\n",
    "    ax2.plot(1000 + np.arange(len(J_hist[1000:])), J_hist[1000:])\n",
    "    ax1.set_title(\"Cost vs. iteration(start)\");  ax2.set_title(\"Cost vs. iteration (end)\")\n",
    "    ax1.set_ylabel('Cost')            ;  ax2.set_ylabel('Cost') \n",
    "    ax1.set_xlabel('iteration step')  ;  ax2.set_xlabel('iteration step') \n",
    "    plt.show()"
   ]
  },
  {
   "cell_type": "markdown",
   "id": "3a7121a6",
   "metadata": {},
   "source": [
    "## Run"
   ]
  },
  {
   "cell_type": "code",
   "execution_count": 6,
   "id": "0e3043f3",
   "metadata": {},
   "outputs": [
    {
     "name": "stdout",
     "output_type": "stream",
     "text": [
      "Itr    0: Cost 7.93e+04  dj_dw: -6.500e+02, dj_db: -4.000e+02   w:  6.500e+00, b: 4.00000e+00, rel_err:  1.00000e+00\n",
      "Itr  500: Cost 7.08e+00  dj_dw: -5.347e-01, dj_db:  8.651e-01   w:  1.927e+02, b: 1.11851e+02, rel_err:  1.46058e-03\n",
      "Itr 1000: Cost 3.41e+00  dj_dw: -3.712e-01, dj_db:  6.007e-01   w:  1.949e+02, b: 1.08228e+02, rel_err:  1.46058e-03\n",
      "Itr 1500: Cost 1.64e+00  dj_dw: -2.577e-01, dj_db:  4.170e-01   w:  1.965e+02, b: 1.05713e+02, rel_err:  1.46058e-03\n",
      "Itr 2000: Cost 7.93e-01  dj_dw: -1.789e-01, dj_db:  2.895e-01   w:  1.975e+02, b: 1.03966e+02, rel_err:  1.46058e-03\n",
      "Itr 2500: Cost 3.82e-01  dj_dw: -1.242e-01, dj_db:  2.010e-01   w:  1.983e+02, b: 1.02754e+02, rel_err:  1.46058e-03\n",
      "Itr 3000: Cost 1.84e-01  dj_dw: -8.625e-02, dj_db:  1.396e-01   w:  1.988e+02, b: 1.01912e+02, rel_err:  1.46058e-03\n",
      "Itr 3500: Cost 8.88e-02  dj_dw: -5.989e-02, dj_db:  9.690e-02   w:  1.992e+02, b: 1.01327e+02, rel_err:  1.46058e-03\n",
      "Itr 4000: Cost 4.28e-02  dj_dw: -4.158e-02, dj_db:  6.727e-02   w:  1.994e+02, b: 1.00922e+02, rel_err:  1.46058e-03\n",
      "Itr 4500: Cost 2.06e-02  dj_dw: -2.887e-02, dj_db:  4.671e-02   w:  1.996e+02, b: 1.00640e+02, rel_err:  1.46058e-03\n",
      "Itr 5000: Cost 9.95e-03  dj_dw: -2.004e-02, dj_db:  3.243e-02   w:  1.997e+02, b: 1.00444e+02, rel_err:  1.46058e-03\n",
      "Itr 5500: Cost 4.79e-03  dj_dw: -1.391e-02, dj_db:  2.251e-02   w:  1.998e+02, b: 1.00308e+02, rel_err:  1.46058e-03\n",
      "Itr 6000: Cost 2.31e-03  dj_dw: -9.660e-03, dj_db:  1.563e-02   w:  1.999e+02, b: 1.00214e+02, rel_err:  1.46058e-03\n",
      "Itr 6500: Cost 1.11e-03  dj_dw: -6.707e-03, dj_db:  1.085e-02   w:  1.999e+02, b: 1.00149e+02, rel_err:  1.46058e-03\n",
      "Itr 7000: Cost 5.37e-04  dj_dw: -4.657e-03, dj_db:  7.535e-03   w:  1.999e+02, b: 1.00103e+02, rel_err:  1.46058e-03\n",
      "Itr 7500: Cost 2.59e-04  dj_dw: -3.233e-03, dj_db:  5.231e-03   w:  2.000e+02, b: 1.00072e+02, rel_err:  1.46058e-03\n",
      "Itr 8000: Cost 1.25e-04  dj_dw: -2.245e-03, dj_db:  3.632e-03   w:  2.000e+02, b: 1.00050e+02, rel_err:  1.46058e-03\n",
      "Itr 8500: Cost 6.01e-05  dj_dw: -1.558e-03, dj_db:  2.522e-03   w:  2.000e+02, b: 1.00035e+02, rel_err:  1.46058e-03\n",
      "Itr 9000: Cost 2.90e-05  dj_dw: -1.082e-03, dj_db:  1.751e-03   w:  2.000e+02, b: 1.00024e+02, rel_err:  1.46058e-03\n",
      "Itr 9500: Cost 1.40e-05  dj_dw: -7.512e-04, dj_db:  1.215e-03   w:  2.000e+02, b: 1.00017e+02, rel_err:  1.46058e-03\n",
      "(J, w, b) found by gradient descent: (0.0000067, 199.9929, 100.0116)\n"
     ]
    },
    {
     "data": {
      "image/png": "[encoded data removed]",
      "text/plain": [
       "<Figure size 864x288 with 2 Axes>"
      ]
     },
     "metadata": {
      "needs_background": "light"
     },
     "output_type": "display_data"
    }
   ],
   "source": [
    "def main():\n",
    "    # initialize parameters\n",
    "    w_init = 0\n",
    "    b_init = 0\n",
    "\n",
    "    # some gradient descent settings\n",
    "    num_iters = 10000\n",
    "    alpha     = 1.0e-2\n",
    "    rel_err   = 1.0e-3\n",
    "\n",
    "    # Load our data set\n",
    "    x_train = np.array([1.0, 2.0])   #features\n",
    "    y_train = np.array([300.0, 500.0])   #target value\n",
    "\n",
    "    # run gradient descent\n",
    "    w_final, b_final, J_hist, p_hist = gradient_descent(x_train ,y_train, w_init, b_init, alpha, num_iters, rel_err)\n",
    "    print(f\"(J, w, b) found by gradient descent: ({J_hist[-1]:0.7f}, {w_final:8.4f}, {b_final:8.4f})\")\n",
    "    \n",
    "    # plot\n",
    "    plot(J_hist)\n",
    "\n",
    "if __name__ == '__main__':\n",
    "    main()\n",
    "    "
   ]
  },
  {
   "cell_type": "code",
   "execution_count": null,
   "id": "d47aec5a",
   "metadata": {},
   "outputs": [],
   "source": []
  }
 ],
 "metadata": {
  "kernelspec": {
   "display_name": "Python 3 (ipykernel)",
   "language": "python",
   "name": "python3"
  },
  "language_info": {
   "codemirror_mode": {
    "name": "ipython",
    "version": 3
   },
   "file_extension": ".py",
   "mimetype": "text/x-python",
   "name": "python",
   "nbconvert_exporter": "python",
   "pygments_lexer": "ipython3",
   "version": "3.10.4"
  }
 },
 "nbformat": 4,
 "nbformat_minor": 5
}

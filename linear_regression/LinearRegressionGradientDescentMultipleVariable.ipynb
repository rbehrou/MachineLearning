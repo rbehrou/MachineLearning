{
 "cells": [
  {
   "cell_type": "code",
   "execution_count": 433,
   "id": "ff53215f",
   "metadata": {},
   "outputs": [],
   "source": [
    "# Import\n",
    "import math, copy\n",
    "import numpy as np\n",
    "import matplotlib.pyplot as plt"
   ]
  },
  {
   "cell_type": "markdown",
   "id": "5c43f6ca",
   "metadata": {},
   "source": [
    "# Cost function\n",
    "In linear regression with multiple variables, the cost function is a measure on how well our model\n",
    "is predicting the target values.\n",
    "\n",
    "The equation for cost function with multiple variable is:\n",
    "$$J(\\mathbf{w},b) = \\frac{1}{2m} \\sum\\limits_{i = 0}^{m-1} (f_{\\mathbf{w},b}(\\mathbf{x}^{(i)}) - y^{(i)})^2 \\nonumber $$ \n",
    " \n",
    "where \n",
    "  $$f_{\\mathbf{w},b}(x^{(i)}) = \\mathbf{w} \\cdot \\mathbf{x}^{(i)} + b \\nonumber $$\n",
    "  \n",
    "In contrast to the cost function with single variable, $\\mathbf{w}$ and $\\mathbf{x}^{(i)}$ are vectors supporting multiple features.\n",
    "  \n",
    "- $f_{\\mathbf{w},b}(\\mathbf{x}^{(i)})$ is the prediction for sample $i$ using parameters $\\mathbf{w},b$.  \n",
    "- $(f_{\\mathbf{w},b}(\\mathbf{x}^{(i)}) -y^{(i)})^2$ is the squared difference between the target value and the prediction.   \n",
    "- These differences are summed over all the $m$ samples and divided by $2m$ to produce the cost, $J(\\mathbf{w},b)$.  \n",
    "- Note that the summation ranges from 0 to m-1 (compatible with python indexing).\n",
    "\n",
    "Here is the code to compute the cost function with multiple variables:"
   ]
  },
  {
   "cell_type": "code",
   "execution_count": 434,
   "id": "8e2c72fb",
   "metadata": {},
   "outputs": [],
   "source": [
    "# Cost function calculator\n",
    "def compute_cost(X, y, w, b):\n",
    "    \"\"\"\n",
    "    Computes the cost function for linear regression with multiple variables\n",
    "    Args:\n",
    "      X (ndarray (m,n)): Data, m examples with n features\n",
    "      y (ndarray (m,)) : target values\n",
    "      w (ndarray (n,)) : model parameters \n",
    "      b (scalar)       : model parameter\n",
    "    Returns\n",
    "      cost (scalar): The total cost\n",
    "     \"\"\"\n",
    "   \n",
    "    # initialize\n",
    "    m = X.shape[0] \n",
    "    cost = 0\n",
    "    \n",
    "    # loop over number of data sets\n",
    "    for i in range(m):\n",
    "        f_wb = np.dot(X[i], w) + b\n",
    "        cost += (f_wb - y[i])**2\n",
    "    # total cost\n",
    "    cost = cost / (2 * m)\n",
    "\n",
    "    return cost"
   ]
  },
  {
   "cell_type": "markdown",
   "id": "9f741b4a",
   "metadata": {},
   "source": [
    "# Gradient of the cost function\n",
    "From the cost function equation, the gradient of the cost function with respect to $w_{j}$ and $b$ is given\n",
    "as follows:\n",
    "\n",
    "\\begin{align}\n",
    "\\frac{\\partial J(\\mathbf{w},b)}{\\partial w_{j}}  &= \\frac{1}{m} \\sum\\limits_{i = 0}^{m-1} (f_{\\mathbf{w},b}(\\mathbf{x}^{(i)}) - y^{(i)})x^{(i)}_{j} \\qquad \\forall j = 0, \\dots, n-1 \\nonumber \\\\\n",
    "  \\frac{\\partial J(\\mathbf{w},b)}{\\partial b}  &= \\frac{1}{m} \\sum\\limits_{i = 0}^{m-1} (f_{\\mathbf{w},b}(\\mathbf{x}^{(i)}) - y^{(i)}) \\nonumber \\\\\n",
    "\\end{align}\n",
    "\n",
    "- Note that all partial derivatives are computed simultaniously.\n",
    "\n",
    "Here is the code to compute the gradient of the cost function with multiple variables:"
   ]
  },
  {
   "cell_type": "code",
   "execution_count": 435,
   "id": "c5b0fb94",
   "metadata": {},
   "outputs": [],
   "source": [
    "# Cost function gradient calculator\n",
    "def compute_cost_gradient(X, y, w, b): \n",
    "    \"\"\"\n",
    "    Computes the gradient of the cost function based on the linear regression model with multiple variables\n",
    "    Args:\n",
    "      X (ndarray (m,n)): Data, m examples with n features\n",
    "      y (ndarray (m,)) : target values\n",
    "      w (ndarray (n,)) : model parameters  \n",
    "      b (scalar)       : model parameter\n",
    "      \n",
    "    Returns:\n",
    "      dj_dw (ndarray (n,)): The gradient of the cost w.r.t. the parameters w. \n",
    "      dj_db (scalar):       The gradient of the cost w.r.t. the parameter b. \n",
    "    \"\"\"\n",
    "    m,n = X.shape           # (number of examples, number of features)\n",
    "    dj_dw = np.zeros((n,))\n",
    "    dj_db = 0.0\n",
    "\n",
    "    for i in range(m):                             \n",
    "        diff = (np.dot(X[i], w) + b) - y[i]   \n",
    "        for j in range(n):                         \n",
    "            dj_dw[j] += diff * X[i, j]    \n",
    "        dj_db += diff                        \n",
    "    dj_dw = dj_dw / m                                \n",
    "    dj_db = dj_db / m                                \n",
    "        \n",
    "    return dj_dw, dj_db"
   ]
  },
  {
   "cell_type": "markdown",
   "id": "b7513fe4",
   "metadata": {},
   "source": [
    "# Gradient descent\n",
    "In linear regression with multiple variables, the linear model that predicts $f_{\\mathbf{w},b}(\\mathbf{x}^{(i)})$ is given as:\n",
    "\n",
    "$$f_{\\mathbf{w},b}(\\mathbf{x}^{(i)}) = \\mathbf{w} \\cdot \\mathbf{x}^{(i)} + b \\nonumber $$\n",
    "\n",
    "We utilize input training data to fit the parameters $\\mathbf{w}$, $b$ by minimizing a measure of the error between our predictions $f_{\\mathbf{w},b}(\\mathbf{x}^{(i)})$ and the actual data $y^{(i)}$. The measure is called the $cost$, $J(\\mathbf{w},b)$. In training, we measure the cost over all of our training samples $\\mathbf{x}^{(i)},y^{(i)}$ by:\n",
    "\n",
    "$$J(\\mathbf{w},b) = \\frac{1}{2m} \\sum\\limits_{i = 0}^{m-1} (f_{\\mathbf{w},b}(\\mathbf{x}^{(i)}) - y^{(i)})^2 \\nonumber $$ \n",
    "\n",
    "Using the *gradient descent* method, parameters $\\mathbf{w}$, $b$ are updated simultaneously as follows:\n",
    "\n",
    "\\begin{align}\n",
    "w_{j} &= w_{j} - \\alpha \\frac{\\partial J(\\mathbf{w},b)}{\\partial w_{j}} \\qquad \\forall j = 0, \\dots, n-1 \\nonumber \\\\ \n",
    "b &= b - \\alpha \\frac{\\partial J(\\mathbf{w},b)}{\\partial b}  \\nonumber\n",
    "\\end{align}\n",
    "\n",
    "where $\\alpha$ is the learing rate.\n",
    "\n",
    "- We repeat the update precedure until the convergence criteria are met. \n",
    "- Note that when the gradient is negative, $\\mathbf{w}$ or $b$ is decreasing and vice-versa.\n",
    "\n",
    "Here is the code for gradient decent method with multiple variables:"
   ]
  },
  {
   "cell_type": "code",
   "execution_count": 436,
   "id": "06a18425",
   "metadata": {},
   "outputs": [],
   "source": [
    "# Gradient decent method\n",
    "def gradient_descent(X, y, w_in, b_in, alpha, num_iters, rel_err): \n",
    "    \"\"\"\n",
    "    Performs gradient descent to fit w,b. Updates w,b by taking \n",
    "    num_iters gradient steps with learning rate alpha\n",
    "    \n",
    "    Args:\n",
    "      X (ndarray (m,n))   : Data, m examples with n features\n",
    "      y (ndarray (m,))    : target values\n",
    "      w_in (ndarray (n,)) : initial model parameters  \n",
    "      b_in (scalar)       : initial model parameter\n",
    "      alpha (float)       : learning rate\n",
    "      num_iters (int)     : number of iterations to run gradient descent\n",
    "      rel_err(float)      : relative error in the gradient decent\n",
    "      \n",
    "    Returns:\n",
    "      w (scalar)      : Updated value of parameter after running gradient descent\n",
    "      b (scalar)      : Updated value of parameter after running gradient descent\n",
    "      J_history (List): History of cost values\n",
    "      \"\"\"\n",
    "    \n",
    "    # Initialize\n",
    "    w = copy.deepcopy(w_in) # avoid modifying global w_in\n",
    "    \n",
    "    # An array to store cost J and w's at each iteration primarily for graphing later\n",
    "    J_history = []\n",
    "    b         = b_in\n",
    "    w         = w_in\n",
    "    rel_diff  = 1.0\n",
    "    i         = 0\n",
    "    \n",
    "    # Loop over number of iterations\n",
    "    while (i < num_iters) or (rel_diff > rel_err):\n",
    "        \n",
    "        # Calculate the gradient and update the parameters using gradient_function\n",
    "        dj_dw, dj_db = compute_cost_gradient(X, y, w, b)\n",
    "\n",
    "        # Update Parameters using equation for the gradient decent\n",
    "        w = w - alpha * dj_dw                            \n",
    "        b = b - alpha * dj_db                           \n",
    "\n",
    "        # Save cost J at each iteration\n",
    "        if i < 100000: # prevent resource exhaustion \n",
    "            J_history.append(compute_cost(X, y, w, b))\n",
    "        # Relative difference\n",
    "        if i > 0:\n",
    "            rel_diff = abs(J_history[i]-J_history[i-1])/J_history[i]\n",
    "        # Print cost every at intervals 10 times or as many iterations if < 10\n",
    "        if i% math.ceil(num_iters/10) == 0:\n",
    "            print(f\"Itr {i:4}: Cost = {J_history[-1]:8.9f}, rel_diff = {rel_diff:0.9e}\")\n",
    "            \n",
    "        # Update\n",
    "        i += 1\n",
    " \n",
    "    # return w and J,w history for graphing\n",
    "    print(f\"Itr {i:4}: Cost = {J_history[-1]:8.9f}, rel_diff = {rel_diff:0.9e}\")\n",
    "    return w, b, J_history"
   ]
  },
  {
   "cell_type": "markdown",
   "id": "fdc26135",
   "metadata": {},
   "source": [
    "# Feature scaling\n",
    "\n",
    "Feature scaling, essentially dividing each positive feature by its maximum value, or more generally, rescale each feature by both its minimum and maximum values using (x-min)/(max-min). Both ways normalizes features to the range of -1 and 1, where the former method works for positive features which is simple and the latter method works for any features. There are two recommended feature scaling methods:\n",
    "\n",
    "- Mean ($\\mu$) normalization: \n",
    "\\begin{align}\n",
    "    x_i = \\frac{x_i - \\mu_i}{max - min} \\nonumber\n",
    "\\end{align}\n",
    "- Z-score normalization as discussed below. \n",
    "\n",
    "## z-score normalization \n",
    "After z-score normalization, all features will have a mean of 0 and a standard deviation of 1.\n",
    "\n",
    "To implement z-score normalization, adjust your input values by using this formula:\n",
    "\n",
    "\\begin{align}\n",
    "    x^{(i)}_j = \\frac{x^{(i)}_j - \\mu_j}{\\sigma_j} \\nonumber\n",
    "\\end{align}\n",
    "\n",
    "where $j$ selects a feature or a column in the $\\mathbf{X}$ matrix. $µ_j$ is the mean of all the values for feature (j) and $\\sigma_j$ is the standard deviation of feature (j).\n",
    "\n",
    "\\begin{align}\n",
    "\\mu_j &= \\frac{1}{m} \\sum_{i=0}^{m-1} x^{(i)}_j \\tag{5} \\nonumber \\\\\n",
    "\\sigma^2_j &= \\frac{1}{m} \\sum_{i=0}^{m-1} (x^{(i)}_j - \\mu_j)^2  \\nonumber\n",
    "\\end{align}\n",
    "\n",
    "- Implementation Note: When normalizing the features, it is important to store the values used for normalization - the mean value and the standard deviation used for the computations. After learning the parameters from the model, we often want to predict the new input we have not seen before. Given a new $x$ value, we must first normalize $x$ using the mean and standard deviation that we had previously computed from the training set.\n",
    "\n",
    "Here is the code for feature scaling using z-score normalization:"
   ]
  },
  {
   "cell_type": "code",
   "execution_count": 437,
   "id": "4cbf726c",
   "metadata": {},
   "outputs": [],
   "source": [
    "def zscore_normalize_features(X):\n",
    "    \"\"\"\n",
    "    computes  X, zcore normalized by column\n",
    "    \n",
    "    Args:\n",
    "      X (ndarray (m,n))     : input data, m examples, n features\n",
    "      \n",
    "    Returns:\n",
    "      X_norm (ndarray (m,n)): input normalized by column\n",
    "      mu (ndarray (n,))     : mean of each feature\n",
    "      sigma (ndarray (n,))  : standard deviation of each feature\n",
    "    \"\"\"\n",
    "    # find the mean of each column/feature\n",
    "    mu = np.mean(X, axis=0)                 # mu will have shape (n,)\n",
    "    # find the standard deviation of each column/feature\n",
    "    sigma = np.std(X, axis=0)                  # sigma will have shape (n,)\n",
    "    # element-wise, subtract mu for that column from each example, divide by std for that column\n",
    "    X_norm = (X - mu) / sigma      \n",
    "\n",
    "    return (X_norm, mu, sigma)\n",
    " \n",
    "# from sklearn.preprocessing import scale\n",
    "# scale(X_orig, axis=0, with_mean=True, with_std=True, copy=True)"
   ]
  },
  {
   "cell_type": "markdown",
   "id": "d537dc93",
   "metadata": {},
   "source": [
    "# Plot cost function"
   ]
  },
  {
   "cell_type": "code",
   "execution_count": 438,
   "id": "bc92a356",
   "metadata": {},
   "outputs": [],
   "source": [
    "def plot_cost(J_hist):\n",
    "    # plot cost versus iteration  \n",
    "    fig, (ax1, ax2) = plt.subplots(1, 2, constrained_layout=True, figsize=(12, 4))\n",
    "    ax1.plot(J_hist)\n",
    "    ax2.plot(100 + np.arange(len(J_hist[100:])), J_hist[100:])\n",
    "    ax1.set_title(\"Cost vs. iteration\");  ax2.set_title(\"Cost vs. iteration (tail)\")\n",
    "    ax1.set_ylabel('Cost')             ;  ax2.set_ylabel('Cost') \n",
    "    ax1.set_xlabel('iteration step')   ;  ax2.set_xlabel('iteration step') \n",
    "    plt.show()"
   ]
  },
  {
   "cell_type": "markdown",
   "id": "aac772db",
   "metadata": {},
   "source": [
    "# Predict"
   ]
  },
  {
   "cell_type": "code",
   "execution_count": 439,
   "id": "245d4332",
   "metadata": {},
   "outputs": [],
   "source": [
    "def predict_cost(x, w, b): \n",
    "    \"\"\"\n",
    "    single predict using linear regression with multiple variable\n",
    "    Args:\n",
    "      x (ndarray): Shape (n,) example with multiple features\n",
    "      w (ndarray): Shape (n,) model parameters   \n",
    "      b (scalar):             model parameter \n",
    "      \n",
    "    Returns:\n",
    "      p (scalar):  prediction\n",
    "    \"\"\"\n",
    "    p = np.dot(x, w) + b     \n",
    "    return p    "
   ]
  },
  {
   "cell_type": "markdown",
   "id": "c5fdcbd9",
   "metadata": {},
   "source": [
    "# Problem Statement\n",
    "\n",
    "The training dataset contains three examples (housing price) with four features (size, bedrooms, floors and, age) shown in the table below. \n",
    "\n",
    "| Size (sqft) | Number of Bedrooms  | Number of floors | Age of  Home | Price (1000s dollars)  |   \n",
    "| ----------------| ------------------- |----------------- |--------------|-------------- |  \n",
    "| 2104            | 5                   | 1                | 45           | 460           |  \n",
    "| 1416            | 3                   | 2                | 40           | 232           |  \n",
    "| 852             | 2                   | 1                | 35           | 178           |  \n"
   ]
  },
  {
   "cell_type": "markdown",
   "id": "ac75dd28",
   "metadata": {},
   "source": [
    "# Plot problem dataset"
   ]
  },
  {
   "cell_type": "code",
   "execution_count": 440,
   "id": "8bfa2963",
   "metadata": {},
   "outputs": [
    {
     "data": {
      "image/png": "[encoded data removed]",
      "text/plain": [
       "<Figure size 864x216 with 4 Axes>"
      ]
     },
     "metadata": {
      "needs_background": "light"
     },
     "output_type": "display_data"
    }
   ],
   "source": [
    "# Load our data set\n",
    "X_train = np.array([[2104, 5, 1, 45], [1416, 3, 2, 40], [852, 2, 1, 35]])\n",
    "y_train = np.array([460, 232, 178])\n",
    "X_features = ['size(sqft)','bedrooms','floors','age']\n",
    "    \n",
    "fig,ax=plt.subplots(1, 4, figsize=(12, 3), sharey=True)\n",
    "for i in range(len(ax)):\n",
    "    ax[i].scatter(X_train[:,i],y_train)\n",
    "    ax[i].set_xlabel(X_features[i])\n",
    "ax[0].set_ylabel(\"Price (1000's)\")\n",
    "plt.show()"
   ]
  },
  {
   "cell_type": "markdown",
   "id": "09b17e8d",
   "metadata": {},
   "source": [
    "The plot below shows steps involved in Z-score normalization."
   ]
  },
  {
   "cell_type": "code",
   "execution_count": 441,
   "id": "5ae1d14c",
   "metadata": {},
   "outputs": [
    {
     "data": {
      "image/png": "[encoded data removed]",
      "text/plain": [
       "<Figure size 864x216 with 3 Axes>"
      ]
     },
     "metadata": {
      "needs_background": "light"
     },
     "output_type": "display_data"
    }
   ],
   "source": [
    "mu     = np.mean(X_train,axis=0)   \n",
    "sigma  = np.std(X_train,axis=0) \n",
    "X_mean = (X_train - mu)\n",
    "X_norm = (X_train - mu)/sigma      \n",
    "\n",
    "fig,ax=plt.subplots(1, 3, figsize=(12, 3))\n",
    "ax[0].scatter(X_train[:,0], X_train[:,3])\n",
    "ax[0].set_xlabel(X_features[0]); ax[0].set_ylabel(X_features[3]);\n",
    "ax[0].set_title(\"unnormalized\")\n",
    "ax[0].axis('equal')\n",
    "\n",
    "ax[1].scatter(X_mean[:,0], X_mean[:,3])\n",
    "ax[1].set_xlabel(X_features[0]); ax[0].set_ylabel(X_features[3]);\n",
    "ax[1].set_title(r\"X - $\\mu$\")\n",
    "ax[1].axis('equal')\n",
    "\n",
    "ax[2].scatter(X_norm[:,0], X_norm[:,3])\n",
    "ax[2].set_xlabel(X_features[0]); ax[0].set_ylabel(X_features[3]);\n",
    "ax[2].set_title(r\"Z-score normalized\")\n",
    "ax[2].axis('equal')\n",
    "plt.tight_layout(rect=[0, 0.03, 1, 0.95])\n",
    "fig.suptitle(\"distribution of features before, during, after normalization\")\n",
    "plt.show()"
   ]
  },
  {
   "cell_type": "markdown",
   "id": "e3aab548",
   "metadata": {},
   "source": [
    "The plot above shows the relationship between two of the training set parameters, \"age\" and \"size(sqft)\". *These are plotted with equal scale*. \n",
    "- Left: Unnormalized: The range of values or the variance of the 'size (sqft)' feature is much larger than that of age\n",
    "- Middle: The first step removes the mean or average value from each feature. This leaves features that are centered around zero. It's difficult to see the difference for the 'age' feature, but 'size (sqft)' is clearly around zero.\n",
    "- Right: The second step divides by the variance. This leaves both features centered at zero with a similar scale."
   ]
  },
  {
   "cell_type": "markdown",
   "id": "60d28ffe",
   "metadata": {},
   "source": [
    "# Run example with gradient descent"
   ]
  },
  {
   "cell_type": "code",
   "execution_count": 442,
   "id": "f6dede3e",
   "metadata": {},
   "outputs": [
    {
     "name": "stdout",
     "output_type": "stream",
     "text": [
      "Itr    0: Cost = 48883.733832062, rel_diff = 1.000000000e+00\n",
      "Itr  100: Cost = 15742.217933301, rel_diff = 1.051826686e-02\n",
      "Itr  200: Cost = 5668.534605092, rel_diff = 1.013651444e-02\n",
      "Itr  300: Cost = 2074.670978492, rel_diff = 1.008431454e-02\n",
      "Itr  400: Cost = 761.002571748, rel_diff = 1.007730290e-02\n",
      "Itr  500: Cost = 279.223350310, rel_diff = 1.007635873e-02\n",
      "Itr  600: Cost = 102.455388819, rel_diff = 1.007622697e-02\n",
      "Itr  700: Cost = 37.594165218, rel_diff = 1.007620400e-02\n",
      "Itr  800: Cost = 13.794522059, rel_diff = 1.007619563e-02\n",
      "Itr  900: Cost = 5.061662379, rel_diff = 1.007618925e-02\n",
      "Itr 1000: Cost = 1.857291001, rel_diff = 1.007618320e-02\n",
      "Itr 1100: Cost = 0.681501779, rel_diff = 1.007617723e-02\n",
      "Itr 1200: Cost = 0.250065793, rel_diff = 1.007617131e-02\n",
      "Itr 1300: Cost = 0.091757556, rel_diff = 1.007616545e-02\n",
      "Itr 1400: Cost = 0.033668955, rel_diff = 1.007615964e-02\n",
      "Itr 1500: Cost = 0.012354287, rel_diff = 1.007615388e-02\n",
      "Itr 1600: Cost = 0.004533211, rel_diff = 1.007614817e-02\n",
      "Itr 1700: Cost = 0.001663392, rel_diff = 1.007614251e-02\n",
      "Itr 1800: Cost = 0.000610356, rel_diff = 1.007613690e-02\n",
      "Itr 1900: Cost = 0.000223961, rel_diff = 1.007613134e-02\n",
      "Itr 2000: Cost = 0.000082179, rel_diff = 1.007612583e-02\n",
      "Itr 2100: Cost = 0.000030154, rel_diff = 1.007612037e-02\n",
      "Itr 2200: Cost = 0.000011065, rel_diff = 1.007611495e-02\n",
      "Itr 2300: Cost = 0.000004060, rel_diff = 1.007610958e-02\n",
      "Itr 2400: Cost = 0.000001490, rel_diff = 1.007610425e-02\n",
      "Itr 2500: Cost = 0.000000547, rel_diff = 1.007609898e-02\n",
      "Itr 2600: Cost = 0.000000201, rel_diff = 1.007609372e-02\n",
      "Itr 2700: Cost = 0.000000074, rel_diff = 1.007608863e-02\n",
      "Itr 2800: Cost = 0.000000027, rel_diff = 1.007608357e-02\n",
      "Itr 2900: Cost = 0.000000010, rel_diff = 1.007607822e-02\n",
      "Itr 3000: Cost = 0.000000004, rel_diff = 1.007607224e-02\n",
      "Itr 3100: Cost = 0.000000001, rel_diff = 1.007606858e-02\n",
      "Itr 3200: Cost = 0.000000000, rel_diff = 1.007606220e-02\n",
      "Itr 3300: Cost = 0.000000000, rel_diff = 1.007605844e-02\n",
      "Itr 3400: Cost = 0.000000000, rel_diff = 1.007605173e-02\n",
      "Itr 3500: Cost = 0.000000000, rel_diff = 1.007605058e-02\n",
      "Itr 3600: Cost = 0.000000000, rel_diff = 1.007605412e-02\n",
      "Itr 3700: Cost = 0.000000000, rel_diff = 1.007602629e-02\n",
      "Itr 3800: Cost = 0.000000000, rel_diff = 1.007599136e-02\n",
      "Itr 3900: Cost = 0.000000000, rel_diff = 1.007593110e-02\n",
      "Itr 4000: Cost = 0.000000000, rel_diff = 1.007608566e-02\n",
      "Itr 4100: Cost = 0.000000000, rel_diff = 1.007589077e-02\n",
      "Itr 4200: Cost = 0.000000000, rel_diff = 1.007641637e-02\n",
      "Itr 4300: Cost = 0.000000000, rel_diff = 1.007650458e-02\n",
      "Itr 4400: Cost = 0.000000000, rel_diff = 1.007720996e-02\n",
      "Itr 4500: Cost = 0.000000000, rel_diff = 1.007610500e-02\n",
      "Itr 4600: Cost = 0.000000000, rel_diff = 1.007580608e-02\n",
      "Itr 4700: Cost = 0.000000000, rel_diff = 1.007627121e-02\n",
      "Itr 4800: Cost = 0.000000000, rel_diff = 1.008288705e-02\n",
      "Itr 4900: Cost = 0.000000000, rel_diff = 1.006500254e-02\n",
      "Itr 5000: Cost = 0.000000000, rel_diff = 1.008493076e-02\n",
      "Itr 5100: Cost = 0.000000000, rel_diff = 1.009873306e-02\n",
      "Itr 5200: Cost = 0.000000000, rel_diff = 1.004175055e-02\n",
      "Itr 5250: Cost = 0.000000000, rel_diff = 9.988148806e-03\n",
      "(J, w, b) found by gradient descent: (0.0000000, [ 38.05161505  41.54327451 -30.98894656  36.34177447], 290.0000000)\n",
      "--------------------------------------------------------------------\n"
     ]
    },
    {
     "data": {
      "image/png": "[encoded data removed]",
      "text/plain": [
       "<Figure size 864x288 with 2 Axes>"
      ]
     },
     "metadata": {
      "needs_background": "light"
     },
     "output_type": "display_data"
    },
    {
     "name": "stdout",
     "output_type": "stream",
     "text": [
      "--------------------------------------------------------------------\n",
      "i:  0, prediction: 460.000000, target value: 460\n",
      "i:  1, prediction: 232.000000, target value: 232\n",
      "i:  2, prediction: 178.000000, target value: 178\n",
      "--------------------------------------------------------------------\n"
     ]
    }
   ],
   "source": [
    "def main():\n",
    "    # initialize parameters\n",
    "    w_init = np.zeros(4,)\n",
    "    b_init = 0.0\n",
    "\n",
    "    # some gradient descent settings\n",
    "    num_iters = 1000\n",
    "    alpha     = 5.0e-3\n",
    "    rel_err   = 1.0e-2\n",
    "    \n",
    "    # normalize the original features\n",
    "    X_norm, X_mu, X_sigma = zscore_normalize_features(X_train)\n",
    "    \n",
    "    # run gradient descent\n",
    "    w_final, b_final, J_hist = gradient_descent(X_norm, y_train, w_init, b_init, alpha, num_iters, rel_err)\n",
    "    print(f\"(J, w, b) found by gradient descent: ({J_hist[-1]:0.7f}, {w_final}, {b_final:0.7f})\")\n",
    "    print(\"--------------------------------------------------------------------\")\n",
    "    \n",
    "    # plot\n",
    "    plot_cost(J_hist)\n",
    "    print(\"--------------------------------------------------------------------\")\n",
    "    \n",
    "    m,_ = X_norm.shape\n",
    "    for i in range(m):\n",
    "        print(f\"i: {i:2d}, prediction: {predict_cost(X_norm[i], w_final, b_final):0.6f}, target value: {y_train[i]}\")\n",
    "    print(\"--------------------------------------------------------------------\")\n",
    "\n",
    "if __name__ == '__main__':\n",
    "    main()"
   ]
  },
  {
   "cell_type": "code",
   "execution_count": null,
   "id": "69d2501d",
   "metadata": {},
   "outputs": [],
   "source": []
  }
 ],
 "metadata": {
  "kernelspec": {
   "display_name": "Python 3 (ipykernel)",
   "language": "python",
   "name": "python3"
  },
  "language_info": {
   "codemirror_mode": {
    "name": "ipython",
    "version": 3
   },
   "file_extension": ".py",
   "mimetype": "text/x-python",
   "name": "python",
   "nbconvert_exporter": "python",
   "pygments_lexer": "ipython3",
   "version": "3.10.4"
  }
 },
 "nbformat": 4,
 "nbformat_minor": 5
}
